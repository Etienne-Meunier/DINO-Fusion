{
 "cells": [
  {
   "cell_type": "code",
   "execution_count": 1,
   "metadata": {},
   "outputs": [],
   "source": [
    "import xarray as xr\n",
    "import numpy as np\n",
    "import xarray as xr\n",
    "import dask\n",
    "import numpy as np\n",
    "import matplotlib.pyplot as plt\n",
    "import torch\n",
    "import torch.nn.functional as F\n",
    "import pickle\n",
    "import webdataset as wds\n",
    "import numpy as np\n",
    "import os\n",
    "from torch.utils.data import Dataset, DataLoader\n"
   ]
  },
  {
   "cell_type": "markdown",
   "metadata": {},
   "source": [
    "# Prepare data\n",
    "### 1 - Put data, mean, std and mask to a dictionnary "
   ]
  },
  {
   "cell_type": "code",
   "execution_count": 5,
   "metadata": {},
   "outputs": [],
   "source": [
    "def get_mask(data):\n",
    "    \"\"\"\n",
    "        get edges mask\n",
    "        data : batch, depth, x, y \n",
    "    \"\"\"\n",
    "    mask = np.zeros(data.shape[-2:], dtype=bool)\n",
    "    \n",
    "    for i in [0,-1]:\n",
    "        mask[:13,i] = True\n",
    "        mask[48:,i] = True\n",
    "        mask[i,:]   = True\n",
    "    return torch.from_numpy(np.expand_dims(np.expand_dims(mask, 0), 0))\n",
    "\n",
    "def replaceEdges(data,mask,values=None):\n",
    "    \"\"\"\n",
    "        Replace edges by a value. Default is nan\n",
    "        data : batch, depth, x, y \n",
    "    \"\"\"\n",
    "    batch_size,depth = np.shape(data)[0:2]\n",
    "    if values is None:\n",
    "        mask = np.tile(mask, (batch_size, depth, 1, 1))\n",
    "        data[mask] = np.nan\n",
    "    else:\n",
    "        mask = np.tile(mask, (batch_size, 1, 1))\n",
    "        data = data.transpose(1, 0, 2, 3)\n",
    "        values = np.squeeze(values)\n",
    "        for i in range(len(values)):\n",
    "            data[i][mask] = values[i]\n",
    "        data = data.transpose(1, 0, 2, 3)\n",
    "    return data\n",
    "\n",
    "def get_standInfos(data,x_mean=None,x_std=None):\n",
    "    \"\"\"\n",
    "        data : batch, depth, x, y \n",
    "    \"\"\"\n",
    "    if x_mean is None:\n",
    "        # Get min, max value aming all elements for each column\n",
    "        x_mean = np.nanmean(data, axis=(0,2,3), keepdims=True)\n",
    "        x_std  = np.nanstd(data, axis=(0,2,3), keepdims=True)\n",
    "        return x_mean, x_std\n",
    "    else : \n",
    "        data = (data - x_mean)/ x_std\n",
    "        return data\n",
    "\n",
    "def info_toDico(mask,mean,std):\n",
    "    return {\"mask\": mask[0],\n",
    "            \"mean\": mean,\n",
    "            \"std\": std}\n",
    "\n",
    "def save_dico(dico,file,radical):\n",
    "    file_name = f\"{file}{radical}_info.pkl\"\n",
    "    with open(file_name, 'wb') as file:\n",
    "        pickle.dump(dico, file)\n",
    "    print(\"feature prepared and saved\")\n",
    "\n",
    "def get_info(dataset,file,radical):\n",
    "    \"\"\"\n",
    "        dataset : batch, depth, x, y \n",
    "    \"\"\"\n",
    "    mask = get_mask(dataset)\n",
    "    data = replaceEdges(dataset,mask)\n",
    "    mean, std  = get_standInfos(data)\n",
    "    dico = info_toDico(mask,mean,std)\n",
    "    save_dico(dico,file,radical)\n",
    "    np.save(f\"/gpfswork/rech/omr/uen17sn/dataDiffModel/{radical}_data.npy\",data)\n",
    "    #return dico\n",
    "\n",
    "def partition_file(file,radical):\n",
    "    data = np.load(f'{file}/{radical}_data.npy')\n",
    "    os.makedirs(f'{file}/partitions', exist_ok=True)\n",
    "    num_partitions = data.shape[0]\n",
    "    data_splitted  = np.array_split(data, num_partitions, axis=0)\n",
    "    for i in range(num_partitions): \n",
    "        file_path = os.path.join(f'{file}/partitions', f'{i}.{radical}.npy')\n",
    "        np.save(file_path, data_splitted[i])\n",
    "        if i%500==0:\n",
    "            print(f'Saved partition {i} at {file_path}')"
   ]
  },
  {
   "cell_type": "code",
   "execution_count": 3,
   "metadata": {},
   "outputs": [],
   "source": [
    "path = \"/gpfswork/rech/omr/udu91zn/diffusionmodels\""
   ]
  },
  {
   "cell_type": "code",
   "execution_count": 4,
   "metadata": {
    "scrolled": true
   },
   "outputs": [
    {
     "name": "stdout",
     "output_type": "stream",
     "text": [
      "feature prepared and saved\n"
     ]
    }
   ],
   "source": [
    "ssh = np.expand_dims(np.load(f'{path}/ssh.npy'),1)\n",
    "get_info(ssh,\"/gpfswork/rech/omr/uen17sn/dataDiffModel/\",\"ssh\")"
   ]
  },
  {
   "cell_type": "code",
   "execution_count": 5,
   "metadata": {},
   "outputs": [
    {
     "name": "stdout",
     "output_type": "stream",
     "text": [
      "feature prepared and saved\n"
     ]
    }
   ],
   "source": [
    "toce = np.load(f'{path}/toce.npy')\n",
    "get_info(toce,\"/gpfswork/rech/omr/uen17sn/dataDiffModel/\",\"toce\")"
   ]
  },
  {
   "cell_type": "code",
   "execution_count": 4,
   "metadata": {},
   "outputs": [
    {
     "name": "stdout",
     "output_type": "stream",
     "text": [
      "feature prepared and saved\n"
     ]
    }
   ],
   "source": [
    "soce = np.load(f'{path}/soce.npy')\n",
    "get_info(soce,\"/gpfswork/rech/omr/uen17sn/dataDiffModel/\",\"soce\")"
   ]
  },
  {
   "cell_type": "markdown",
   "metadata": {},
   "source": [
    "# Partition Files"
   ]
  },
  {
   "cell_type": "code",
   "execution_count": 6,
   "metadata": {},
   "outputs": [
    {
     "name": "stdout",
     "output_type": "stream",
     "text": [
      "Saved partition 0 at /gpfswork/rech/omr/uen17sn/dataDiffModel/dataraw/partitions/0.ssh.npy\n",
      "Saved partition 500 at /gpfswork/rech/omr/uen17sn/dataDiffModel/dataraw/partitions/500.ssh.npy\n",
      "Saved partition 1000 at /gpfswork/rech/omr/uen17sn/dataDiffModel/dataraw/partitions/1000.ssh.npy\n",
      "Saved partition 1500 at /gpfswork/rech/omr/uen17sn/dataDiffModel/dataraw/partitions/1500.ssh.npy\n",
      "Saved partition 2000 at /gpfswork/rech/omr/uen17sn/dataDiffModel/dataraw/partitions/2000.ssh.npy\n",
      "Saved partition 2500 at /gpfswork/rech/omr/uen17sn/dataDiffModel/dataraw/partitions/2500.ssh.npy\n",
      "Saved partition 3000 at /gpfswork/rech/omr/uen17sn/dataDiffModel/dataraw/partitions/3000.ssh.npy\n",
      "Saved partition 3500 at /gpfswork/rech/omr/uen17sn/dataDiffModel/dataraw/partitions/3500.ssh.npy\n",
      "Saved partition 4000 at /gpfswork/rech/omr/uen17sn/dataDiffModel/dataraw/partitions/4000.ssh.npy\n",
      "Saved partition 4500 at /gpfswork/rech/omr/uen17sn/dataDiffModel/dataraw/partitions/4500.ssh.npy\n",
      "Saved partition 5000 at /gpfswork/rech/omr/uen17sn/dataDiffModel/dataraw/partitions/5000.ssh.npy\n",
      "Saved partition 5500 at /gpfswork/rech/omr/uen17sn/dataDiffModel/dataraw/partitions/5500.ssh.npy\n",
      "Saved partition 6000 at /gpfswork/rech/omr/uen17sn/dataDiffModel/dataraw/partitions/6000.ssh.npy\n",
      "Saved partition 6500 at /gpfswork/rech/omr/uen17sn/dataDiffModel/dataraw/partitions/6500.ssh.npy\n",
      "Saved partition 7000 at /gpfswork/rech/omr/uen17sn/dataDiffModel/dataraw/partitions/7000.ssh.npy\n",
      "Saved partition 7500 at /gpfswork/rech/omr/uen17sn/dataDiffModel/dataraw/partitions/7500.ssh.npy\n",
      "Saved partition 8000 at /gpfswork/rech/omr/uen17sn/dataDiffModel/dataraw/partitions/8000.ssh.npy\n",
      "Saved partition 8500 at /gpfswork/rech/omr/uen17sn/dataDiffModel/dataraw/partitions/8500.ssh.npy\n",
      "Saved partition 9000 at /gpfswork/rech/omr/uen17sn/dataDiffModel/dataraw/partitions/9000.ssh.npy\n",
      "Saved partition 9500 at /gpfswork/rech/omr/uen17sn/dataDiffModel/dataraw/partitions/9500.ssh.npy\n",
      "Saved partition 10000 at /gpfswork/rech/omr/uen17sn/dataDiffModel/dataraw/partitions/10000.ssh.npy\n",
      "Saved partition 10500 at /gpfswork/rech/omr/uen17sn/dataDiffModel/dataraw/partitions/10500.ssh.npy\n",
      "Saved partition 0 at /gpfswork/rech/omr/uen17sn/dataDiffModel/dataraw/partitions/0.soce.npy\n",
      "Saved partition 500 at /gpfswork/rech/omr/uen17sn/dataDiffModel/dataraw/partitions/500.soce.npy\n",
      "Saved partition 1000 at /gpfswork/rech/omr/uen17sn/dataDiffModel/dataraw/partitions/1000.soce.npy\n",
      "Saved partition 1500 at /gpfswork/rech/omr/uen17sn/dataDiffModel/dataraw/partitions/1500.soce.npy\n",
      "Saved partition 2000 at /gpfswork/rech/omr/uen17sn/dataDiffModel/dataraw/partitions/2000.soce.npy\n",
      "Saved partition 2500 at /gpfswork/rech/omr/uen17sn/dataDiffModel/dataraw/partitions/2500.soce.npy\n",
      "Saved partition 3000 at /gpfswork/rech/omr/uen17sn/dataDiffModel/dataraw/partitions/3000.soce.npy\n",
      "Saved partition 3500 at /gpfswork/rech/omr/uen17sn/dataDiffModel/dataraw/partitions/3500.soce.npy\n",
      "Saved partition 4000 at /gpfswork/rech/omr/uen17sn/dataDiffModel/dataraw/partitions/4000.soce.npy\n",
      "Saved partition 4500 at /gpfswork/rech/omr/uen17sn/dataDiffModel/dataraw/partitions/4500.soce.npy\n",
      "Saved partition 5000 at /gpfswork/rech/omr/uen17sn/dataDiffModel/dataraw/partitions/5000.soce.npy\n",
      "Saved partition 5500 at /gpfswork/rech/omr/uen17sn/dataDiffModel/dataraw/partitions/5500.soce.npy\n",
      "Saved partition 6000 at /gpfswork/rech/omr/uen17sn/dataDiffModel/dataraw/partitions/6000.soce.npy\n",
      "Saved partition 6500 at /gpfswork/rech/omr/uen17sn/dataDiffModel/dataraw/partitions/6500.soce.npy\n",
      "Saved partition 7000 at /gpfswork/rech/omr/uen17sn/dataDiffModel/dataraw/partitions/7000.soce.npy\n",
      "Saved partition 7500 at /gpfswork/rech/omr/uen17sn/dataDiffModel/dataraw/partitions/7500.soce.npy\n",
      "Saved partition 8000 at /gpfswork/rech/omr/uen17sn/dataDiffModel/dataraw/partitions/8000.soce.npy\n",
      "Saved partition 8500 at /gpfswork/rech/omr/uen17sn/dataDiffModel/dataraw/partitions/8500.soce.npy\n",
      "Saved partition 9000 at /gpfswork/rech/omr/uen17sn/dataDiffModel/dataraw/partitions/9000.soce.npy\n",
      "Saved partition 9500 at /gpfswork/rech/omr/uen17sn/dataDiffModel/dataraw/partitions/9500.soce.npy\n",
      "Saved partition 10000 at /gpfswork/rech/omr/uen17sn/dataDiffModel/dataraw/partitions/10000.soce.npy\n",
      "Saved partition 10500 at /gpfswork/rech/omr/uen17sn/dataDiffModel/dataraw/partitions/10500.soce.npy\n",
      "Saved partition 0 at /gpfswork/rech/omr/uen17sn/dataDiffModel/dataraw/partitions/0.toce.npy\n",
      "Saved partition 500 at /gpfswork/rech/omr/uen17sn/dataDiffModel/dataraw/partitions/500.toce.npy\n",
      "Saved partition 1000 at /gpfswork/rech/omr/uen17sn/dataDiffModel/dataraw/partitions/1000.toce.npy\n",
      "Saved partition 1500 at /gpfswork/rech/omr/uen17sn/dataDiffModel/dataraw/partitions/1500.toce.npy\n",
      "Saved partition 2000 at /gpfswork/rech/omr/uen17sn/dataDiffModel/dataraw/partitions/2000.toce.npy\n",
      "Saved partition 2500 at /gpfswork/rech/omr/uen17sn/dataDiffModel/dataraw/partitions/2500.toce.npy\n",
      "Saved partition 3000 at /gpfswork/rech/omr/uen17sn/dataDiffModel/dataraw/partitions/3000.toce.npy\n",
      "Saved partition 3500 at /gpfswork/rech/omr/uen17sn/dataDiffModel/dataraw/partitions/3500.toce.npy\n",
      "Saved partition 4000 at /gpfswork/rech/omr/uen17sn/dataDiffModel/dataraw/partitions/4000.toce.npy\n",
      "Saved partition 4500 at /gpfswork/rech/omr/uen17sn/dataDiffModel/dataraw/partitions/4500.toce.npy\n",
      "Saved partition 5000 at /gpfswork/rech/omr/uen17sn/dataDiffModel/dataraw/partitions/5000.toce.npy\n",
      "Saved partition 5500 at /gpfswork/rech/omr/uen17sn/dataDiffModel/dataraw/partitions/5500.toce.npy\n",
      "Saved partition 6000 at /gpfswork/rech/omr/uen17sn/dataDiffModel/dataraw/partitions/6000.toce.npy\n",
      "Saved partition 6500 at /gpfswork/rech/omr/uen17sn/dataDiffModel/dataraw/partitions/6500.toce.npy\n",
      "Saved partition 7000 at /gpfswork/rech/omr/uen17sn/dataDiffModel/dataraw/partitions/7000.toce.npy\n",
      "Saved partition 7500 at /gpfswork/rech/omr/uen17sn/dataDiffModel/dataraw/partitions/7500.toce.npy\n",
      "Saved partition 8000 at /gpfswork/rech/omr/uen17sn/dataDiffModel/dataraw/partitions/8000.toce.npy\n",
      "Saved partition 8500 at /gpfswork/rech/omr/uen17sn/dataDiffModel/dataraw/partitions/8500.toce.npy\n",
      "Saved partition 9000 at /gpfswork/rech/omr/uen17sn/dataDiffModel/dataraw/partitions/9000.toce.npy\n",
      "Saved partition 9500 at /gpfswork/rech/omr/uen17sn/dataDiffModel/dataraw/partitions/9500.toce.npy\n",
      "Saved partition 10000 at /gpfswork/rech/omr/uen17sn/dataDiffModel/dataraw/partitions/10000.toce.npy\n",
      "Saved partition 10500 at /gpfswork/rech/omr/uen17sn/dataDiffModel/dataraw/partitions/10500.toce.npy\n"
     ]
    }
   ],
   "source": [
    "partition_file(\"/gpfswork/rech/omr/uen17sn/dataDiffModel/dataraw\",\"ssh\")\n",
    "partition_file(\"/gpfswork/rech/omr/uen17sn/dataDiffModel/dataraw\",\"soce\")\n",
    "partition_file(\"/gpfswork/rech/omr/uen17sn/dataDiffModel/dataraw\",\"toce\")"
   ]
  },
  {
   "cell_type": "code",
   "execution_count": 8,
   "metadata": {},
   "outputs": [
    {
     "name": "stdout",
     "output_type": "stream",
     "text": [
      "Volume total : 35.25 Go\n"
     ]
    }
   ],
   "source": [
    "total = 0\n",
    "for root, dirs, files in os.walk( \"/gpfswork/rech/omr/uen17sn/dataDiffModel/dataraw/partitions\"):\n",
    "    for file in files:\n",
    "        total += os.path.getsize(os.path.join(root, file))\n",
    "size = total / (1024**3)\n",
    "print(\"Volume total : {:.2f} Go\".format(size))"
   ]
  },
  {
   "cell_type": "markdown",
   "metadata": {},
   "source": [
    "# DANS UTILS"
   ]
  },
  {
   "cell_type": "code",
   "execution_count": 10,
   "metadata": {},
   "outputs": [],
   "source": [
    "from pathlib import Path\n",
    "from mpl_toolkits.axes_grid1 import ImageGrid\n",
    "import matplotlib.pyplot as plt\n",
    "from torch.utils.data import DataLoader\n",
    "from torchvision import transforms\n",
    "import webdataset as wds\n",
    "import pickle\n",
    "import numpy as np\n",
    "import torch\n",
    "from torch.utils.data import DataLoader\n",
    "from torchvision import transforms\n",
    "from torch.utils.data.distributed import DistributedSampler\n",
    "#from ipdb import set_trace"
   ]
  },
  {
   "cell_type": "code",
   "execution_count": null,
   "metadata": {},
   "outputs": [],
   "source": [
    "class CreateDataset(Dataset):\n",
    "    def __init__(self, file,mu=None,std=None,mask=None):\n",
    "        self.data_dir = file\n",
    "        self.partition_files = os.listdir(self.data_dir)\n",
    "        if mu is None:\n",
    "            self.mu,self.std,self.mask = {},{},{}\n",
    "            self.get_infos()\n",
    "        else:\n",
    "            self.mu   = mu\n",
    "            self.std  = std\n",
    "            self.mask = mask\n",
    "\n",
    "    def __len__(self):\n",
    "        return len(self.partition_files)//3\n",
    "\n",
    "    def get_infos(self):\n",
    "        for feature in [\"soce\",\"toce\",\"ssh\"]:\n",
    "            file_path = f'/gpfswork/rech/omr/uen17sn/dataDiffModel/{feature}_info.pkl'\n",
    "            with open(file_path, 'rb') as file:\n",
    "                data = pickle.load(file)\n",
    "                self.mu[feature]   = data[\"mean\"]\n",
    "                self.std[feature]  = data[\"std\"]\n",
    "                self.mask[feature] = data[\"mask\"]\n",
    "                \n",
    "    def standardize_4D(self,sample,feature):\n",
    "        \"\"\"\n",
    "            Standardize the data given a mean and a std\n",
    "        \"\"\"\n",
    "        return (sample - self.mu[feature]) / self.std[feature]\n",
    "    \n",
    "    def replaceEdges(self,data,feature,values=None):\n",
    "        \"\"\"\n",
    "            Replace edges by a values. Default is 0\n",
    "            data : batch, depth, x, y \n",
    "        \"\"\"\n",
    "        batch_size,depth = np.shape(data)[0:2]\n",
    "        if values is None:\n",
    "            mask = np.tile(self.mask[feature], (batch_size, depth, 1, 1))\n",
    "            data[mask] = 0\n",
    "        else:\n",
    "            mask = np.tile(self.mask[feature], (batch_size, 1, 1))\n",
    "            data = data.transpose(1, 0, 2, 3)\n",
    "            values = np.squeeze(values)\n",
    "            for i in range(len(values)):\n",
    "                data[i][mask] = values[i]\n",
    "            data = data.transpose(1, 0, 2, 3)\n",
    "        return data\n",
    "\n",
    "    def padData(self,dataset,xup,xdown,yup,ydown,val):\n",
    "        \"\"\"\n",
    "            pad data on axis x and y\n",
    "        \"\"\"\n",
    "        return np.pad(dataset, ((0, 0), (0, 0), (yup, ydown), (xup, xdown)), mode='constant',constant_values=val)\n",
    "\n",
    "                            \n",
    "    def __getitem__(self, i):\n",
    "        f    = self.partition_files[i]\n",
    "        id_  = int(f.split('_')[1].split('.')[0])\n",
    "        dico = {}\n",
    "        for feature in [\"soce\",\"toce\",\"ssh\"]:\n",
    "            data = np.load(os.path.join(self.data_dir, f'{feature}_{id_}.npy'))\n",
    "            data = self.standardize_4D(data,feature)\n",
    "            data = self.replaceEdges(data,feature)\n",
    "            data = self.padData(data,1,1,4,5,0)\n",
    "            dico[feature] = data\n",
    "        return np.concatenate((dico['soce'], dico['toce'], dico['ssh']), axis=1).squeeze(axis=0)"
   ]
  },
  {
   "cell_type": "code",
   "execution_count": null,
   "metadata": {},
   "outputs": [],
   "source": [
    "data_dir   = \"/gpfswork/rech/omr/uen17sn/dataDiffModel/partitions\"\n",
    "dataset    = CreateDataset(data_dir)\n",
    "dataloader = DataLoader(dataset, batch_size=8, shuffle=True)"
   ]
  },
  {
   "cell_type": "code",
   "execution_count": 18,
   "metadata": {},
   "outputs": [
    {
     "data": {
      "text/plain": [
       "torch.Size([8, 71, 208, 64])"
      ]
     },
     "execution_count": 18,
     "metadata": {},
     "output_type": "execute_result"
    }
   ],
   "source": [
    "batch = next(iter(dataloader))\n",
    "np.shape(batch)"
   ]
  },
  {
   "cell_type": "code",
   "execution_count": 24,
   "metadata": {},
   "outputs": [
    {
     "data": {
      "text/plain": [
       "<matplotlib.colorbar.Colorbar at 0x153e012502e0>"
      ]
     },
     "execution_count": 24,
     "metadata": {},
     "output_type": "execute_result"
    },
    {
     "data": {
      "image/png": "[encoded data removed]",
      "text/plain": [
       "<Figure size 432x288 with 2 Axes>"
      ]
     },
     "metadata": {
      "needs_background": "light"
     },
     "output_type": "display_data"
    }
   ],
   "source": [
    "plt.pcolor(batch[0,0])\n",
    "plt.colorbar()"
   ]
  },
  {
   "cell_type": "markdown",
   "metadata": {},
   "source": [
    "### AUTRE"
   ]
  },
  {
   "cell_type": "code",
   "execution_count": 16,
   "metadata": {},
   "outputs": [],
   "source": [
    "class TransformFields :\n",
    "\n",
    "        def __init__(self, mu=None, std=None,mask=None) : \n",
    "            if mu is None:\n",
    "                self.mu,self.std,self.mask = {},{},{}\n",
    "                self.get_infos()\n",
    "            else:\n",
    "                self.mu   = mu\n",
    "                self.std  = std\n",
    "                self.mask = mask\n",
    "        \n",
    "        def __call__(self, sample) :\n",
    "            dico = {}\n",
    "            for feature in [\"soce\",\"toce\",\"ssh\"]:\n",
    "                #1. standardize\n",
    "                data = self.standardize_4D(sample,feature)\n",
    "                #1. replace padding and edges by 0 \n",
    "                data = self.replaceEdges(data,feature)\n",
    "                dico[feature] = data\n",
    "            #set_trace()\n",
    "            data = np.concatenate((dico['soce'], dico['toce'], dico['ssh']), axis=1).squeeze(axis=0)\n",
    "            return data\n",
    "\n",
    "\n",
    "        def get_infos(self):\n",
    "            for feature in [\"soce\",\"toce\",\"ssh\"]:\n",
    "                file_path = f'/gpfswork/rech/omr/uen17sn/dataDiffModel/infos/{feature}_info.pkl'\n",
    "                with open(file_path, 'rb') as file:\n",
    "                    data = pickle.load(file)\n",
    "                    self.mu[feature]   = data[\"mean\"]\n",
    "                    self.std[feature]  = data[\"std\"]\n",
    "                    self.mask[feature] = data[\"mask\"]\n",
    "\n",
    "\n",
    "        def standardize_4D(self,sample,feature):\n",
    "            \"\"\"\n",
    "                Standardize the data given a mean and a std\n",
    "            \"\"\"\n",
    "            return (sample[f'{feature}.npy'] - self.mu[feature]) / self.std[feature]\n",
    "\n",
    "        def replaceEdges(self,data,feature,values=None):\n",
    "            \"\"\"\n",
    "                Replace edges by a values. Default is 0\n",
    "                data : batch, depth, x, y \n",
    "            \"\"\"\n",
    "            batch_size,depth = np.shape(data)[0:2]\n",
    "            if values is None:\n",
    "                mask = np.tile(self.mask[feature], (batch_size, depth, 1, 1))\n",
    "                data[mask] = 0\n",
    "            else:\n",
    "                mask = np.tile(self.mask[feature], (batch_size, 1, 1))\n",
    "                data = data.transpose(1, 0, 2, 3)\n",
    "                values = np.squeeze(values)\n",
    "                for i in range(len(values)):\n",
    "                    data[i][mask] = values[i]\n",
    "                data = data.transpose(1, 0, 2, 3)\n",
    "            return data\n",
    "                                        \n",
    "                \n",
    "def get_dataloader(tar_file, batch_size=5,num_workers=2,distributed=True) :\n",
    "    composed = transforms.Compose([TransformFields()])\n",
    "    dataset = wds.WebDataset(tar_file).shuffle(100).decode().map(composed) #nodesplitter=wds.split_by_worker\n",
    "\n",
    "    #if distributed:\n",
    "    #    torch.distributed.init_process_group(backend='gloo') \n",
    "    #    sampler = DistributedSampler(dataset)\n",
    "    #else:\n",
    "    #    sampler = None\n",
    "\n",
    "    dl = DataLoader(dataset=dataset, batch_size=batch_size)#,num_workers=num_workers)#sampler=sampler\n",
    "    return dl\n"
   ]
  },
  {
   "cell_type": "code",
   "execution_count": 18,
   "metadata": {},
   "outputs": [],
   "source": [
    "loader = get_dataloader(\"/gpfswork/rech/omr/uen17sn/dataDiffModel/dataraw/dataset2.tar\",8)"
   ]
  },
  {
   "cell_type": "code",
   "execution_count": 19,
   "metadata": {},
   "outputs": [],
   "source": [
    "batch = next(iter(loader))"
   ]
  },
  {
   "cell_type": "code",
   "execution_count": 20,
   "metadata": {},
   "outputs": [
    {
     "data": {
      "text/plain": [
       "torch.Size([8, 71, 199, 62])"
      ]
     },
     "execution_count": 20,
     "metadata": {},
     "output_type": "execute_result"
    }
   ],
   "source": [
    "batch.shape"
   ]
  },
  {
   "cell_type": "markdown",
   "metadata": {},
   "source": [
    "## ---"
   ]
  },
  {
   "cell_type": "code",
   "execution_count": 3,
   "metadata": {},
   "outputs": [],
   "source": [
    "def load_dico(radical, file,i):\n",
    "    \"\"\"\n",
    "        Load the dico containing:\n",
    "            - padded data with raw values : (batch,depth,x,y)\n",
    "            - mean :                        (1,depth,1,1)\n",
    "            - std  :                        (1,depth,1,1) \n",
    "            - mask :                        (1,depht,x,y)\n",
    "    \"\"\"\n",
    "    file = f'{file}{radical}{i}.pkl'\n",
    "    with open(file, 'rb') as f:\n",
    "        return pickle.load(f)\n",
    "\n",
    "def standardize_4D(data,x_mean=None,x_std=None):\n",
    "    \"\"\"\n",
    "        Standardize the data given a mean and a std\n",
    "        OR\n",
    "        Obtain mean and std of a dataset\n",
    "            - data :         (batch,depth,x,y) \n",
    "            - mean and std : (1,depth,1,1)\n",
    "    \"\"\"\n",
    "    if x_mean is None:\n",
    "        # Get min, max value aming all elements for each column\n",
    "        x_mean = np.nanmean(data, axis=(0,2,3), keepdims=True)\n",
    "        x_std  = np.nanstd(data, axis=(0,2,3), keepdims=True)\n",
    "        return x_mean, x_std\n",
    "    else : \n",
    "        data = (data - x_mean)/ x_std\n",
    "        return data\n",
    "\n",
    "def replaceEdges(data,mask,values=None):\n",
    "    \"\"\"\n",
    "        Replace edges by a values. Default is 0\n",
    "        data : batch, depth, x, y \n",
    "    \"\"\"\n",
    "    batch_size,depth = np.shape(data)[0:2]\n",
    "    if values is None:\n",
    "        mask = np.tile(mask, (batch_size, depth, 1, 1))\n",
    "        data[mask] = 0\n",
    "    else:\n",
    "        mask = np.tile(mask, (batch_size, 1, 1))\n",
    "        data = data.transpose(1, 0, 2, 3)\n",
    "        values = np.squeeze(values)\n",
    "        for i in range(len(values)):\n",
    "            data[i][mask] = values[i]\n",
    "        data = data.transpose(1, 0, 2, 3)\n",
    "    return data\n",
    "\n",
    "def prepare_data(i,radical,file):\n",
    "    \"\"\"\n",
    "        For a feature, standardize the data and replace mask by value 0\n",
    "    \"\"\"\n",
    "    dico = load_dico(radical,file,i)\n",
    "    stand_data  = standardize_4D(dico[\"data\"],dico[\"mean\"],dico[\"std\"])\n",
    "    #mean_stand, std_stand = standardize_4D(stand_data)\n",
    "    masked_data = replaceEdges(stand_data,dico[\"mask\"])#,mean_stand)\n",
    "    del dico\n",
    "    return masked_data\n",
    "\n",
    "def load_dataset(i,file = \"/home/tissot/data/\",n=2):\n",
    "    \"\"\"\n",
    "        Concatenate prepared channels, and select features\n",
    "    \"\"\"\n",
    "    toce = prepare_data(i,\"toce\",file)[::n]\n",
    "    print(\"toce prepared\")\n",
    "    soce = prepare_data(i,\"soce\",file)[::n]\n",
    "    print(\"soce prepared\")\n",
    "    ssh = prepare_data(i,\"ssh\",file)[::n]\n",
    "    print(\"ssh prepared\")\n",
    "    return np.concatenate((ssh,toce,soce),axis=1)"
   ]
  },
  {
   "cell_type": "code",
   "execution_count": null,
   "metadata": {},
   "outputs": [],
   "source": [
    "def load_dico(radical, file):\n",
    "    \"\"\"\n",
    "        Load the dico containing:\n",
    "            - data with raw values : (batch,depth,x,y)\n",
    "            - mean :                 (1,depth,1,1)\n",
    "            - std  :                 (1,depth,1,1) \n",
    "            - mask :                 (1,depht,x,y)\n",
    "    \"\"\"\n",
    "    file = f'{file}{radical}.pkl'\n",
    "    with open(file, 'rb') as f:\n",
    "        return pickle.load(f)\n",
    "    \n",
    "def padData(dataset,xup,xdown,yup,ydown,val):\n",
    "    if len(np.shape(dataset))==3:\n",
    "        return np.pad(dataset, ((0,0),(yup, ydown), (xup, xdown)), mode='constant',constant_values=np.nan)\n",
    "    else:\n",
    "        return np.pad(dataset, ((0,0),(0,0),(yup, ydown), (xup, xdown)), mode='constant',constant_values=np.nan)\n",
    "        \n",
    "\n",
    "def standardize_4D(data,x_mean=None,x_std=None):\n",
    "    \"\"\"\n",
    "        Standardize the data given a mean and a std\n",
    "        OR\n",
    "        Obtain mean and std of a dataset\n",
    "            - data :         (batch,depth,x,y) \n",
    "            - mean and std : (1,depth,1,1)\n",
    "    \"\"\"\n",
    "    if x_mean is None:\n",
    "        # Get min, max value aming all elements for each column\n",
    "        x_mean = np.nanmean(data, axis=(0,2,3), keepdims=True)\n",
    "        x_std  = np.nanstd(data, axis=(0,2,3), keepdims=True)\n",
    "        return (data - x_mean)/ x_std\n",
    "    else : \n",
    "        return (data - x_mean)/ x_std\n",
    "\n",
    "def replaceEdges(data,mask,values=None):\n",
    "    \"\"\"\n",
    "        Replace edges by a values. Default is 0\n",
    "        data : batch, depth, x, y \n",
    "    \"\"\"\n",
    "    batch_size,depth = np.shape(data)[0:2]\n",
    "    if values is None:\n",
    "        mask = np.tile(mask, (batch_size, depth, 1, 1))\n",
    "        data[mask] = 0\n",
    "    else:\n",
    "        mask = np.tile(mask, (batch_size, 1, 1))\n",
    "        data = data.transpose(1, 0, 2, 3)\n",
    "        values = np.squeeze(values)\n",
    "        for i in range(len(values)):\n",
    "            data[i][mask] = values[i]\n",
    "        data = data.transpose(1, 0, 2, 3)\n",
    "    return data\n",
    "\n",
    "def prepare_data(radical,file):\n",
    "    \"\"\"\n",
    "        For a feature, standardize the data and replace mask by value 0\n",
    "    \"\"\"\n",
    "    dico = load_dico(radical,file)\n",
    "    padded_mask = padData(dico[\"data\"],xup=1,xdown=1,yup=5,ydown=4,val=0)\n",
    "    padded_data = padData(dico[\"mask\"],xup=1,xdown=1,yup=5,ydown=4,val=0)\n",
    "    stand_data  = standardize_4D(padded_data,dico[\"mean\"],dico[\"std\"])\n",
    "    masked_data = replaceEdges(stand_data,padded_mask)\n",
    "    del dico\n",
    "    return masked_data\n",
    "\n",
    "\"\"\"\n",
    "def load_dataset(i,file = \"/home/tissot/data/\",n=2):\n",
    "    toce = prepare_data(i,\"toce\",file)[::n]\n",
    "    print(\"toce prepared\")\n",
    "    soce = prepare_data(i,\"soce\",file)[::n]\n",
    "    print(\"soce prepared\")\n",
    "    ssh = prepare_data(i,\"ssh\",file)[::n]\n",
    "    print(\"ssh prepared\")\n",
    "    return np.concatenate((ssh,toce,soce),axis=1)\n",
    "\"\"\";"
   ]
  }
 ],
 "metadata": {
  "kernelspec": {
   "display_name": "pytorch-gpu-1.10.1_py3.9.7",
   "language": "python",
   "name": "module-conda-env-pytorch-gpu-1.10.1_py3.9.7"
  },
  "language_info": {
   "codemirror_mode": {
    "name": "ipython",
    "version": 3
   },
   "file_extension": ".py",
   "mimetype": "text/x-python",
   "name": "python",
   "nbconvert_exporter": "python",
   "pygments_lexer": "ipython3",
   "version": "3.9.7"
  }
 },
 "nbformat": 4,
 "nbformat_minor": 4
}