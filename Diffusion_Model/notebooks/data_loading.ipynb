{
 "cells": [
  {
   "cell_type": "code",
   "execution_count": null,
   "metadata": {},
   "outputs": [],
   "source": [
    "import xarray as xr\n",
    "import dask\n",
    "import numpy as np"
   ]
  },
  {
   "cell_type": "code",
   "execution_count": null,
   "metadata": {},
   "outputs": [],
   "source": [
    "from dask.distributed import Client\n",
    "# quand tu es sur la page jupyterhub, il faut demander 20 CPU, check advanced SLURM options\n",
    "client = Client()\n",
    "client"
   ]
  },
  {
   "cell_type": "code",
   "execution_count": null,
   "metadata": {},
   "outputs": [],
   "source": [
    "data_TS = xr.open_mfdataset('/gpfsstore/rech/omr/uym68qx/nemo_output/DINO/Dinoffusion/1degree/restart*/DINO_10d_grid_T_3D.nc',\n",
    "                            parallel=True)\n",
    "data_TS"
   ]
  },
  {
   "cell_type": "code",
   "execution_count": null,
   "metadata": {},
   "outputs": [],
   "source": [
    "data_SSH = xr.open_mfdataset('/gpfsstore/rech/omr/uym68qx/nemo_output/DINO/Dinoffusion/1degree/restart*/DINO_10d_grid_T_2D.nc',\n",
    "                             parallel=True)\n",
    "data_SSH"
   ]
  },
  {
   "cell_type": "code",
   "execution_count": null,
   "metadata": {},
   "outputs": [],
   "source": [
    "toce = data_TS.toce_inst.values\n",
    "np.save('toce.npy', toce)\n",
    "del toce"
   ]
  },
  {
   "cell_type": "code",
   "execution_count": null,
   "metadata": {},
   "outputs": [],
   "source": [
    "soce = data_TS.soce_inst.values\n",
    "np.save('soce.npy', soce)\n",
    "del soce"
   ]
  },
  {
   "cell_type": "code",
   "execution_count": null,
   "metadata": {},
   "outputs": [],
   "source": [
    "ssh = data_SSH.ssh_inst.values\n",
    "np.save('ssh.npy', ssh)\n",
    "del ssh"
   ]
  },
  {
   "cell_type": "code",
   "execution_count": null,
   "metadata": {},
   "outputs": [],
   "source": [
    "def normalize_maxmin_4D(data):\n",
    "    # Get min, max value aming all elements for each column\n",
    "    x_min = np.min(data[:,:,2:-2,2:-2], axis=(0,2,3), keepdims=True)\n",
    "    x_max = np.max(data[:,:,2:-2,2:-2], axis=(0,2,3), keepdims=True)\n",
    "    # Normalize with those min, max values leveraging broadcasting\n",
    "    data = 2 * ((data - x_min)/ (x_max - x_min)) - 1\n",
    "    del x_min, x_max\n",
    "    print(\"ok\")\n",
    "    return data"
   ]
  },
  {
   "cell_type": "code",
   "execution_count": null,
   "metadata": {},
   "outputs": [],
   "source": [
    "toce = normalize_maxmin_4D(np.load('toce.npy'))\n",
    "soce = normalize_maxmin_4D(np.load('soce.npy'))\n",
    "ssh = normalize_maxmin_4D(np.expand_dims(np.load('ssh.npy'),1))\n",
    "\n",
    "dataset = np.concatenate((toce,\n",
    "                          soce,\n",
    "                          ssh), axis=1)\n",
    "dataset.shape"
   ]
  },
  {
   "cell_type": "code",
   "execution_count": null,
   "metadata": {},
   "outputs": [],
   "source": [
    "del toce,soce,ssh"
   ]
  },
  {
   "cell_type": "code",
   "execution_count": null,
   "metadata": {},
   "outputs": [],
   "source": [
    "#np.save('normalized_data.npy', dataset)\n",
    "dataset = np.load('normalized_data.npy')"
   ]
  }
 ],
 "metadata": {
  "kernelspec": {
   "display_name": "Python 3 (ipykernel)",
   "language": "python",
   "name": "python3"
  },
  "language_info": {
   "codemirror_mode": {
    "name": "ipython",
    "version": 3
   },
   "file_extension": ".py",
   "mimetype": "text/x-python",
   "name": "python",
   "nbconvert_exporter": "python",
   "pygments_lexer": "ipython3",
   "version": "3.10.0"
  }
 },
 "nbformat": 4,
 "nbformat_minor": 4
}
